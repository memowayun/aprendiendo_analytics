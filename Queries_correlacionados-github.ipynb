{
 "cells": [
  {
   "cell_type": "markdown",
   "id": "1deaf306",
   "metadata": {},
   "source": [
    "## Queries correlacionados\n",
    "\n",
    "- Son utilizados cuando se quiere tener un resultado distinto para cada fila considerada en el query principal\n",
    "<br>.\n",
    "- Es un subquery que hace referencia a una columna de una tabla que no está en el FROM\n",
    "<br>.\n",
    "- Se dice que el query está correlacionado porque el resultado que produce depende de un valor que produce el SELECT externo, es por ello que el subquery se debe ejecutar una vez por cada fila que considera el query externo\n",
    "<br>.\n",
    "- No se pueden ejecutar sin el query principal\n",
    "<br>.\n",
    "- Son ineficientes en cuanto a tiempo de ejecución"
   ]
  },
  {
   "cell_type": "code",
   "execution_count": null,
   "id": "e65ad77c",
   "metadata": {},
   "outputs": [],
   "source": [
    "Estructura de query correlacionado:\n",
    "    \n",
    "'''\n",
    "SELECT column1, column2, ....\n",
    "FROM table1 outer\n",
    "WHERE column1 operator\n",
    "                    (SELECT column1, column2\n",
    "                     FROM table2\n",
    "                     WHERE expr1 = \n",
    "                               outer.expr2);\n",
    "                        '''"
   ]
  },
  {
   "cell_type": "markdown",
   "id": "dba75401",
   "metadata": {},
   "source": [
    "## Funcionamiento de query correlacionado\n",
    "\n",
    "### GET\n",
    "candidate row from outer query\n",
    "\n",
    "### EXECUTE\n",
    "inner query using candidate row value\n",
    "\n",
    "### USE\n",
    "values from inner query to qualify or disqualify candidate row"
   ]
  },
  {
   "cell_type": "code",
   "execution_count": 4,
   "id": "a946c344",
   "metadata": {},
   "outputs": [
    {
     "data": {
      "application/vnd.jupyter.widget-view+json": {
       "model_id": "",
       "version_major": 2,
       "version_minor": 0
      },
      "text/plain": [
       "FloatProgress(value=0.0, bar_style='info', description='Progress:', layout=Layout(height='25px', width='50%'),…"
      ]
     },
     "metadata": {},
     "output_type": "display_data"
    },
    {
     "name": "stdout",
     "output_type": "stream",
     "text": [
      "DataFrame[folio_pedido: bigint, persona: bigint, productos: bigint]"
     ]
    }
   ],
   "source": [
    "pedidos = spark.sql('''\n",
    "select folio_pedido, persona, productos\n",
    "from base_pedidos\n",
    "'''\n",
    ")\n",
    "pedidos.persist()\n"
   ]
  },
  {
   "cell_type": "code",
   "execution_count": 5,
   "id": "177af0ae",
   "metadata": {},
   "outputs": [
    {
     "data": {
      "application/vnd.jupyter.widget-view+json": {
       "model_id": "",
       "version_major": 2,
       "version_minor": 0
      },
      "text/plain": [
       "FloatProgress(value=0.0, bar_style='info', description='Progress:', layout=Layout(height='25px', width='50%'),…"
      ]
     },
     "metadata": {},
     "output_type": "display_data"
    }
   ],
   "source": [
    "pedidos.createOrReplaceTempView('pedidos')"
   ]
  },
  {
   "cell_type": "markdown",
   "id": "981ddecb",
   "metadata": {},
   "source": [
    "### Ejemplo\n",
    "Se cuenta con la base de datos de una tienda de ventas en línea, donde se tiene el registro de los pedidos, id de cliente que realiza el pedido y el número de productos que se ordenan por pedido.\n",
    "Se quiere encontrar los pedidos que tienen más productos comprados que el promedio por pedido de por persona."
   ]
  },
  {
   "cell_type": "code",
   "execution_count": 6,
   "id": "b3b2e341",
   "metadata": {},
   "outputs": [
    {
     "data": {
      "application/vnd.jupyter.widget-view+json": {
       "model_id": "",
       "version_major": 2,
       "version_minor": 0
      },
      "text/plain": [
       "FloatProgress(value=0.0, bar_style='info', description='Progress:', layout=Layout(height='25px', width='50%'),…"
      ]
     },
     "metadata": {},
     "output_type": "display_data"
    },
    {
     "name": "stdout",
     "output_type": "stream",
     "text": [
      "+------------+--------+---------+\n",
      "|folio_pedido| persona|productos|\n",
      "+------------+--------+---------+\n",
      "|   558064744|11013560|        3|\n",
      "|   552388905|11013560|        3|\n",
      "|   697217172|13302208|        4|\n",
      "|   690768520|13302208|        4|\n",
      "|   635984960|18066926|        2|\n",
      "|   689627701|19648519|        2|\n",
      "|   657096359|19720128|        3|\n",
      "|   526331055|20802055|       11|\n",
      "|   521483505|20984688|        2|\n",
      "|   562674850|20984688|        2|\n",
      "|   591594773|21702225|        2|\n",
      "|   594783274|21702225|        2|\n",
      "|   592125024|21702225|        2|\n",
      "|   718087557|22231809|        3|\n",
      "|   548600130|22323644|       14|\n",
      "|   523462228|22917087|        5|\n",
      "|   492256010|24735617|        8|\n",
      "|   644172615|26123713|        4|\n",
      "|   575041454|26349968|        4|\n",
      "|   623183509|28427666|        3|\n",
      "+------------+--------+---------+\n",
      "only showing top 20 rows"
     ]
    }
   ],
   "source": [
    "query = spark.sql('''\n",
    "SELECT folio_pedido, persona, productos\n",
    "FROM pedidos outer\n",
    "WHERE productos >\n",
    "                (SELECT AVG(productos)\n",
    "                 FROM pedidos\n",
    "                 WHERE persona =\n",
    "                        outer.persona)\n",
    "ORDER BY persona\n",
    "\n",
    "''')\n",
    "query.show()"
   ]
  },
  {
   "cell_type": "markdown",
   "id": "4b9a7049",
   "metadata": {},
   "source": [
    "Pedidos de la persona 11013560"
   ]
  },
  {
   "cell_type": "code",
   "execution_count": 8,
   "id": "a61958c6",
   "metadata": {},
   "outputs": [
    {
     "data": {
      "application/vnd.jupyter.widget-view+json": {
       "model_id": "",
       "version_major": 2,
       "version_minor": 0
      },
      "text/plain": [
       "FloatProgress(value=0.0, bar_style='info', description='Progress:', layout=Layout(height='25px', width='50%'),…"
      ]
     },
     "metadata": {},
     "output_type": "display_data"
    },
    {
     "name": "stdout",
     "output_type": "stream",
     "text": [
      "+------------+--------+---------+\n",
      "|folio_pedido| persona|productos|\n",
      "+------------+--------+---------+\n",
      "|   558181484|11013560|        2|\n",
      "|   558064744|11013560|        3|\n",
      "|   552388905|11013560|        3|\n",
      "+------------+--------+---------+"
     ]
    }
   ],
   "source": [
    "df = spark.sql('''\n",
    "SELECT folio_pedido, persona, productos\n",
    "FROM pedidos\n",
    "where persona = 11013560\n",
    "''')\n",
    "df.show()"
   ]
  },
  {
   "cell_type": "markdown",
   "id": "f15c4e8e",
   "metadata": {},
   "source": [
    "Promedio de productos comprados por pedido de la persona 11013560"
   ]
  },
  {
   "cell_type": "code",
   "execution_count": 10,
   "id": "e80bf478",
   "metadata": {},
   "outputs": [
    {
     "data": {
      "application/vnd.jupyter.widget-view+json": {
       "model_id": "",
       "version_major": 2,
       "version_minor": 0
      },
      "text/plain": [
       "FloatProgress(value=0.0, bar_style='info', description='Progress:', layout=Layout(height='25px', width='50%'),…"
      ]
     },
     "metadata": {},
     "output_type": "display_data"
    },
    {
     "name": "stdout",
     "output_type": "stream",
     "text": [
      "+------------------+\n",
      "|    avg(productos)|\n",
      "+------------------+\n",
      "|2.6666666666666665|\n",
      "+------------------+"
     ]
    }
   ],
   "source": [
    "df = spark.sql('''\n",
    "SELECT AVG(productos)\n",
    "FROM pedidos\n",
    "where persona = 11013560\n",
    "''')\n",
    "df.show()\n"
   ]
  },
  {
   "cell_type": "code",
   "execution_count": null,
   "id": "0c5970ed",
   "metadata": {},
   "outputs": [],
   "source": []
  }
 ],
 "metadata": {
  "kernelspec": {
   "display_name": "PySpark",
   "language": "python",
   "name": "pysparkkernel"
  },
  "language_info": {
   "codemirror_mode": {
    "name": "python",
    "version": 3
   },
   "file_extension": ".py",
   "mimetype": "text/x-python",
   "name": "pyspark",
   "pygments_lexer": "python3"
  }
 },
 "nbformat": 4,
 "nbformat_minor": 5
}
