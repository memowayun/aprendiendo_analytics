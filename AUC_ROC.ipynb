{
 "cells": [
  {
   "cell_type": "markdown",
   "id": "cb8769f0",
   "metadata": {},
   "source": [
    "# Capacitación AUC ROC"
   ]
  },
  {
   "cell_type": "markdown",
   "id": "89d51d48",
   "metadata": {},
   "source": [
    "    Configuración del Cluster (todo el código es en python)"
   ]
  },
  {
   "cell_type": "code",
   "execution_count": 1,
   "id": "13cd7af7",
   "metadata": {},
   "outputs": [
    {
     "data": {
      "text/html": [
       "Current session configs: <tt>{'driverMemory': '10G', 'driverCores': 4, 'executorMemory': '10G', 'executorCores': 4, 'proxyUser': 'mgalindo', 'kind': 'pyspark'}</tt><br>"
      ],
      "text/plain": [
       "<IPython.core.display.HTML object>"
      ]
     },
     "metadata": {},
     "output_type": "display_data"
    },
    {
     "data": {
      "text/html": [
       "No active sessions."
      ],
      "text/plain": [
       "<IPython.core.display.HTML object>"
      ]
     },
     "metadata": {},
     "output_type": "display_data"
    }
   ],
   "source": [
    "%%configure -f\n",
    "{\"driverMemory\": \"10G\", \"driverCores\": 4,\"executorMemory\":\"10G\",\"executorCores\":4}"
   ]
  },
  {
   "cell_type": "code",
   "execution_count": 2,
   "id": "0e401b55",
   "metadata": {},
   "outputs": [
    {
     "data": {
      "text/html": [
       "\n",
       "\n",
       "<style>\n",
       "div.output_area pre{\n",
       "word-wrap: unset !important;\n",
       "white-space: pre !important;\n",
       "}\n",
       "\n",
       "@media (min-width: 1100px) {\n",
       ".container {\n",
       "width: 100%;\n",
       "}}\n",
       "\n",
       "@media (max-width: 1020px) {\n",
       ".container {\n",
       "width: 100%;\n",
       "}}\n",
       "\n",
       "@media (min-width: 767) {\n",
       ".container {\n",
       "width: 100%;\n",
       "}}\n",
       "</style>\n"
      ],
      "text/plain": [
       "<IPython.core.display.HTML object>"
      ]
     },
     "metadata": {},
     "output_type": "display_data"
    }
   ],
   "source": [
    "%%html\n",
    "\n",
    "\n",
    "<style>\n",
    "div.output_area pre{\n",
    "word-wrap: unset !important;\n",
    "white-space: pre !important;\n",
    "}\n",
    "\n",
    "@media (min-width: 1100px) {\n",
    ".container {\n",
    "width: 100%;\n",
    "}}\n",
    "\n",
    "@media (max-width: 1020px) {\n",
    ".container {\n",
    "width: 100%;\n",
    "}}\n",
    "\n",
    "@media (min-width: 767) {\n",
    ".container {\n",
    "width: 100%;\n",
    "}}\n",
    "</style>"
   ]
  },
  {
   "cell_type": "markdown",
   "id": "6fbc751a",
   "metadata": {},
   "source": [
    "### Librerías"
   ]
  },
  {
   "cell_type": "code",
   "execution_count": 3,
   "id": "8199b396",
   "metadata": {},
   "outputs": [
    {
     "name": "stdout",
     "output_type": "stream",
     "text": [
      "Starting Spark application\n"
     ]
    },
    {
     "data": {
      "text/html": [
       "<table>\n",
       "<tr><th>ID</th><th>YARN Application ID</th><th>Kind</th><th>State</th><th>Spark UI</th><th>Driver log</th><th>User</th><th>Current session?</th></tr><tr><td>2</td><td>application_1649344677852_0003</td><td>pyspark</td><td>idle</td><td><a target=\"_blank\" href=\"http://ip-10-30-19-13.us-west-1.compute.internal:20888/proxy/application_1649344677852_0003/\">Link</a></td><td><a target=\"_blank\" href=\"http://ip-10-30-19-58.us-west-1.compute.internal:8042/node/containerlogs/container_1649344677852_0003_01_000001/livy\">Link</a></td><td>None</td><td>✔</td></tr></table>"
      ],
      "text/plain": [
       "<IPython.core.display.HTML object>"
      ]
     },
     "metadata": {},
     "output_type": "display_data"
    },
    {
     "data": {
      "application/vnd.jupyter.widget-view+json": {
       "model_id": "",
       "version_major": 2,
       "version_minor": 0
      },
      "text/plain": [
       "FloatProgress(value=0.0, bar_style='info', description='Progress:', layout=Layout(height='25px', width='50%'),…"
      ]
     },
     "metadata": {},
     "output_type": "display_data"
    },
    {
     "name": "stdout",
     "output_type": "stream",
     "text": [
      "SparkSession available as 'spark'.\n"
     ]
    },
    {
     "data": {
      "application/vnd.jupyter.widget-view+json": {
       "model_id": "",
       "version_major": 2,
       "version_minor": 0
      },
      "text/plain": [
       "FloatProgress(value=0.0, bar_style='info', description='Progress:', layout=Layout(height='25px', width='50%'),…"
      ]
     },
     "metadata": {},
     "output_type": "display_data"
    }
   ],
   "source": [
    "import pandas as pd \n",
    "import numpy as np \n",
    "import matplotlib.pyplot as plt"
   ]
  },
  {
   "cell_type": "markdown",
   "id": "7032a536",
   "metadata": {},
   "source": [
    "### Librerías para cálculo de AUC ROC"
   ]
  },
  {
   "cell_type": "code",
   "execution_count": 4,
   "id": "beb069fa",
   "metadata": {},
   "outputs": [
    {
     "data": {
      "application/vnd.jupyter.widget-view+json": {
       "model_id": "",
       "version_major": 2,
       "version_minor": 0
      },
      "text/plain": [
       "FloatProgress(value=0.0, bar_style='info', description='Progress:', layout=Layout(height='25px', width='50%'),…"
      ]
     },
     "metadata": {},
     "output_type": "display_data"
    }
   ],
   "source": [
    "from sklearn import metrics"
   ]
  },
  {
   "cell_type": "markdown",
   "id": "f2c80284",
   "metadata": {},
   "source": [
    "### Función a mano para cálculo de AUC ROC (utilizando sólo los puntos de corte de deciles)"
   ]
  },
  {
   "cell_type": "code",
   "execution_count": 5,
   "id": "fe88f713",
   "metadata": {
    "code_folding": [
     0
    ]
   },
   "outputs": [
    {
     "data": {
      "application/vnd.jupyter.widget-view+json": {
       "model_id": "",
       "version_major": 2,
       "version_minor": 0
      },
      "text/plain": [
       "FloatProgress(value=0.0, bar_style='info', description='Progress:', layout=Layout(height='25px', width='50%'),…"
      ]
     },
     "metadata": {},
     "output_type": "display_data"
    }
   ],
   "source": [
    "def bkt_odds(Folio,Score,Flag,bins=10,negative_relationship=True):\n",
    "    '''\n",
    "    Función que genera tabla de Odds y tabla de resumen de resultados, para \n",
    "    cualquier BKT que tenga como input un único score, y un flag de malo.\n",
    "            Parameters\n",
    "            ----------\n",
    "                    Folio : array_like\n",
    "                        Input array que contiene el folio de las personas a las que se les realiza el BKT.\n",
    "                    Score : array_like\n",
    "                        Input array que contiene el score asignado a cada observación. Representa la tendencia de que el evento suceda.\n",
    "                        Debe tener el mismo length que el array de Folio. \n",
    "                    Flag : array_like \n",
    "                        Input que indica para cada observación si el evento sucede o no. TOma el valor de 1 si el evento sucede, y 0 \n",
    "                        en otros casos. \n",
    "                    bins : int, default `10`\n",
    "                        Integer that indicates the number of equally-sized bins to split the data into.\n",
    "                    negative_relationship : bool, default `True`\n",
    "                        Determine the relationship between the score and the target.\n",
    "                        If `negative_relationship == True`, then a LOW score means HIGH probability of default.\n",
    "                        If `negative_relationship == False`, then a LOW score means LOW probability of default.\n",
    "                    \n",
    "                    \n",
    "            Returns\n",
    "            ----------\n",
    "                    two pandas.DataFrameS object:\n",
    "                        - Tabla ODDS: Muestra los indicadores de mora asociados a los bines creados. \n",
    "                        - Resumen_resultados: Resumen de los resultados encontrados (población, # malos, \n",
    "                                                                                     mora asociada, mora acum,\n",
    "                                                                                     KS, y ROC)\n",
    "            Notes\n",
    "            ----------\n",
    "                    \n",
    "    '''\n",
    "    \n",
    "    import numpy as np\n",
    "    import pandas as pda\n",
    "    \n",
    "    bb = pd.DataFrame({'Id':Folio,'Score':Score,'Mora':Flag})\n",
    "    bb['bin'] = pd.qcut(bb['Score'],bins,duplicates='drop')\n",
    "    \n",
    "    Odds=bb.groupby('bin').agg({'Mora':['size','sum','mean']}).reset_index()\n",
    "    Odds.columns=['Bin','Personas','Malos','Bad_rate']\n",
    "    Odds['Buenos'] = Odds['Personas'] - Odds['Malos']    \n",
    "    \n",
    "    if negative_relationship == False:\n",
    "        Odds = Odds.sort_index(ascending=False)\n",
    "        \n",
    "    Odds['Good_rate']=Odds['Buenos'].div(Odds['Buenos'].sum())\n",
    "    Odds['Tasa_malos_acum'] = Odds['Malos'].cumsum().div(Odds['Malos'].sum())\n",
    "    Odds['Tasa_buenos_acum'] = Odds['Buenos'].cumsum().div(Odds['Buenos'].sum())\n",
    "    \n",
    "    Odds['M_1']=Odds['Malos'].values[::-1].cumsum()\n",
    "    Odds['M_2']=Odds['M_1'].values[::-1]\n",
    "    \n",
    "    Odds['P_1']=Odds['Personas'].values[::-1].cumsum()\n",
    "    Odds['P_2']=Odds['P_1'].values[::-1]\n",
    "    \n",
    "    Odds['Mora_acumulada']=Odds['M_2'].div(Odds['P_2'])\n",
    "    \n",
    "    Odds['KS'] = np.abs(Odds['Tasa_malos_acum'] - Odds['Tasa_buenos_acum'])\n",
    "    Odds['Var_ROC']=Odds['Good_rate']*Odds['Tasa_malos_acum']\n",
    "    \n",
    "    Ks_CI=round(Odds['KS'].max(),4)*100\n",
    "    \n",
    "    ROC=Odds['Var_ROC'].sum()*100\n",
    "    \n",
    "    tabla_ODDS=Odds[['Bin','Personas','Buenos','Malos','Bad_rate','Mora_acumulada','KS']]\n",
    "    \n",
    "    resultados={'Casos':bb.shape[0],\n",
    "                'Malos':bb['Mora'].sum(),\n",
    "                'Tasa de Mora':bb['Mora'].sum()/bb['Mora'].count(),\n",
    "                'KS':Ks_CI,\n",
    "                'ROC':ROC\n",
    "                }\n",
    "    \n",
    "    resultados=pd.DataFrame(resultados,columns=['Casos','Malos','Tasa de Mora','KS','ROC'],index=['Resumen_resultados'])\n",
    "    return(tabla_ODDS,resultados)"
   ]
  },
  {
   "cell_type": "markdown",
   "id": "6cc62109",
   "metadata": {},
   "source": [
    "### Data Ejemplo"
   ]
  },
  {
   "cell_type": "code",
   "execution_count": 14,
   "id": "75bad2a6",
   "metadata": {},
   "outputs": [
    {
     "data": {
      "application/vnd.jupyter.widget-view+json": {
       "model_id": "",
       "version_major": 2,
       "version_minor": 0
      },
      "text/plain": [
       "FloatProgress(value=0.0, bar_style='info', description='Progress:', layout=Layout(height='25px', width='50%'),…"
      ]
     },
     "metadata": {},
     "output_type": "display_data"
    },
    {
     "name": "stdout",
     "output_type": "stream",
     "text": [
      "284017\n",
      "       folio  bandera     score\n",
      "0  100016029        0  0.062860\n",
      "1  100084693        0  0.362405\n",
      "2  100087273        0  0.328058\n",
      "3   10008893        0  0.073263\n",
      "4  100094724        1  0.263119"
     ]
    }
   ],
   "source": [
    "df = pd.read_csv(\"ruta\", sep='|',\n",
    "                 dtype={\n",
    "                     'cuenta_fix': str\n",
    "                 })\n",
    "print(df['LLAVE'].nunique())\n",
    "df = df[['folio','bandera','.fitted']]\n",
    "df.columns = ['folio','bandera','score']\n",
    "df.head()"
   ]
  },
  {
   "cell_type": "markdown",
   "id": "cc3542c7",
   "metadata": {},
   "source": [
    "        #### Array Observaciones Reales"
   ]
  },
  {
   "cell_type": "code",
   "execution_count": 7,
   "id": "90a86adc",
   "metadata": {},
   "outputs": [
    {
     "data": {
      "application/vnd.jupyter.widget-view+json": {
       "model_id": "",
       "version_major": 2,
       "version_minor": 0
      },
      "text/plain": [
       "FloatProgress(value=0.0, bar_style='info', description='Progress:', layout=Layout(height='25px', width='50%'),…"
      ]
     },
     "metadata": {},
     "output_type": "display_data"
    }
   ],
   "source": [
    "y = df[['bandera']]"
   ]
  },
  {
   "cell_type": "markdown",
   "id": "aa249ce1",
   "metadata": {},
   "source": [
    "       #### Array de Score"
   ]
  },
  {
   "cell_type": "code",
   "execution_count": 8,
   "id": "ca45b9fc",
   "metadata": {},
   "outputs": [
    {
     "data": {
      "application/vnd.jupyter.widget-view+json": {
       "model_id": "",
       "version_major": 2,
       "version_minor": 0
      },
      "text/plain": [
       "FloatProgress(value=0.0, bar_style='info', description='Progress:', layout=Layout(height='25px', width='50%'),…"
      ]
     },
     "metadata": {},
     "output_type": "display_data"
    }
   ],
   "source": [
    "score = df[['score']]"
   ]
  },
  {
   "cell_type": "markdown",
   "id": "fab5a774",
   "metadata": {},
   "source": [
    "## Cálculo Directo"
   ]
  },
  {
   "cell_type": "code",
   "execution_count": 9,
   "id": "ee479ca0",
   "metadata": {},
   "outputs": [
    {
     "data": {
      "application/vnd.jupyter.widget-view+json": {
       "model_id": "",
       "version_major": 2,
       "version_minor": 0
      },
      "text/plain": [
       "FloatProgress(value=0.0, bar_style='info', description='Progress:', layout=Layout(height='25px', width='50%'),…"
      ]
     },
     "metadata": {},
     "output_type": "display_data"
    },
    {
     "name": "stdout",
     "output_type": "stream",
     "text": [
      "0.6275465959347094"
     ]
    }
   ],
   "source": [
    "metrics.roc_auc_score(y, score)"
   ]
  },
  {
   "cell_type": "code",
   "execution_count": 10,
   "id": "f614fe3b",
   "metadata": {},
   "outputs": [
    {
     "data": {
      "application/vnd.jupyter.widget-view+json": {
       "model_id": "",
       "version_major": 2,
       "version_minor": 0
      },
      "text/plain": [
       "FloatProgress(value=0.0, bar_style='info', description='Progress:', layout=Layout(height='25px', width='50%'),…"
      ]
     },
     "metadata": {},
     "output_type": "display_data"
    },
    {
     "data": {
      "image/png": "[encoded data removed]",
      "text/plain": [
       "<IPython.core.display.Image object>"
      ]
     },
     "metadata": {},
     "output_type": "display_data"
    }
   ],
   "source": [
    "fpr, tpr, thresholds = metrics.roc_curve(y, score)\n",
    "roc_auc = metrics.auc(fpr, tpr)\n",
    "display = metrics.RocCurveDisplay(fpr=fpr, tpr=tpr, roc_auc=roc_auc,\n",
    "                                   estimator_name='Ejmplo Score Fuga')\n",
    "display.plot()\n",
    "\n",
    "plt.show()\n",
    "%matplot plt "
   ]
  },
  {
   "cell_type": "markdown",
   "id": "ce3b1893",
   "metadata": {},
   "source": [
    "## Cálculo con función propia"
   ]
  },
  {
   "cell_type": "code",
   "execution_count": 11,
   "id": "a4ab5788",
   "metadata": {},
   "outputs": [
    {
     "data": {
      "application/vnd.jupyter.widget-view+json": {
       "model_id": "",
       "version_major": 2,
       "version_minor": 0
      },
      "text/plain": [
       "FloatProgress(value=0.0, bar_style='info', description='Progress:', layout=Layout(height='25px', width='50%'),…"
      ]
     },
     "metadata": {},
     "output_type": "display_data"
    }
   ],
   "source": [
    "tabla_odds,resumen = bkt_odds(df['folio'],df['score'],df['bandera'],bins=10,negative_relationship=False)"
   ]
  },
  {
   "cell_type": "code",
   "execution_count": 12,
   "id": "4ce18caf",
   "metadata": {},
   "outputs": [
    {
     "data": {
      "application/vnd.jupyter.widget-view+json": {
       "model_id": "",
       "version_major": 2,
       "version_minor": 0
      },
      "text/plain": [
       "FloatProgress(value=0.0, bar_style='info', description='Progress:', layout=Layout(height='25px', width='50%'),…"
      ]
     },
     "metadata": {},
     "output_type": "display_data"
    },
    {
     "name": "stdout",
     "output_type": "stream",
     "text": [
      "                     Casos   Malos  Tasa de Mora     KS        ROC\n",
      "Resumen_resultados  284184  121374      0.427097  20.69  67.326541"
     ]
    }
   ],
   "source": [
    "resumen"
   ]
  },
  {
   "cell_type": "markdown",
   "id": "594208c9",
   "metadata": {},
   "source": [
    "**Comentario:** \n",
    "        \n",
    "        Difiere el valor final de AUC ROC por los puntos de corte considerados, diferencias no significativas"
   ]
  }
 ],
 "metadata": {
  "kernelspec": {
   "display_name": "PySpark",
   "language": "python",
   "name": "pysparkkernel"
  },
  "language_info": {
   "codemirror_mode": {
    "name": "python",
    "version": 3
   },
   "file_extension": ".py",
   "mimetype": "text/x-python",
   "name": "pyspark",
   "pygments_lexer": "python3"
  }
 },
 "nbformat": 4,
 "nbformat_minor": 5
}
